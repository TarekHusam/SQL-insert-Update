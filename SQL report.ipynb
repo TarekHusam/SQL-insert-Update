{
 "cells": [
  {
   "cell_type": "code",
   "execution_count": 1,
   "id": "20fdfdf5",
   "metadata": {},
   "outputs": [],
   "source": [
    "import pandas as pd\n",
    "\n",
    "\n"
   ]
  },
  {
   "cell_type": "code",
   "execution_count": 2,
   "id": "2488f0a6",
   "metadata": {},
   "outputs": [],
   "source": [
    "# Load the Excel file\n",
    "df = pd.read_excel('Clinicians Dec.2023.xlsx')\n",
    "\n"
   ]
  },
  {
   "cell_type": "code",
   "execution_count": 3,
   "id": "1e062c03",
   "metadata": {
    "scrolled": false
   },
   "outputs": [],
   "source": [
    "# Define the SQL table and columns\n",
    "table_name = \"HKM_PHYSICIANS\"\n",
    "columns = [\"CLINICIANID\", \"ENGLISHNAME\", \"ARABICNAME\", \"ACTIVES\", \"ACTIVEI\", \"LICENSESTART\",\n",
    "           \"NATIONALID\", \"FACILITYID\", \"FACILITYENGLISHNAME\", \"FACILITYARABICNAME\",\n",
    "           \"CLUSTERS\", \"GENDER\", \"NATIONALITY\", \"EMAIL\", \"PHONE\"]\n",
    "\n",
    "# Initialize a list to store SQL insert statements\n",
    "sql_insert_statements = []\n",
    "\n",
    "# Iterate through each row and generate SQL insert statement\n",
    "for index, row in df.iterrows():\n",
    "    values = \", \".join([f\"'{row[column]}'\" for column in columns])\n",
    "    sql_insert = f'INSERT INTO {table_name} ({\", \".join(columns)}) VALUES ({values});'\n",
    "    sql_insert_statements.append(sql_insert)\n",
    "\n",
    "\n",
    "\n",
    "# Option 2: Write to a text file (Note: This will create a .txt file)\n",
    "with open('SQL_Insert_Statements.txt', 'w', encoding='utf-8') as file:\n",
    "    file.write(\"\\n\".join(sql_insert_statements))\n"
   ]
  },
  {
   "cell_type": "code",
   "execution_count": null,
   "id": "1567f70d",
   "metadata": {},
   "outputs": [],
   "source": []
  }
 ],
 "metadata": {
  "kernelspec": {
   "display_name": "Python 3 (ipykernel)",
   "language": "python",
   "name": "python3"
  },
  "language_info": {
   "codemirror_mode": {
    "name": "ipython",
    "version": 3
   },
   "file_extension": ".py",
   "mimetype": "text/x-python",
   "name": "python",
   "nbconvert_exporter": "python",
   "pygments_lexer": "ipython3",
   "version": "3.11.4"
  }
 },
 "nbformat": 4,
 "nbformat_minor": 5
}
